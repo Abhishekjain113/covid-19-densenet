{
  "nbformat": 4,
  "nbformat_minor": 0,
  "metadata": {
    "colab": {
      "name": "covid-19-densenet_121_V1_xray_2Classes_final.ipynb",
      "provenance": [],
      "collapsed_sections": []
    },
    "kernelspec": {
      "name": "python3",
      "display_name": "Python 3"
    },
    "accelerator": "GPU"
  },
  "cells": [
    {
      "cell_type": "code",
      "metadata": {
        "id": "XxKe4QZIUERk"
      },
      "source": [
        "import numpy as np\n",
        "import pandas as pd\n",
        "import matplotlib.pyplot as plt\n",
        "%matplotlib inline\n",
        "import seaborn as sns\n",
        "import cv2\n",
        "import os\n",
        "from tqdm import tqdm\n",
        "from sklearn.metrics import confusion_matrix\n",
        "from sklearn.model_selection import train_test_split\n",
        "from keras.utils.np_utils import to_categorical\n",
        "from keras.models import Model,Sequential, Input, load_model\n",
        "from keras.layers import Dense, Dropout, Flatten, Conv2D, MaxPool2D, BatchNormalization, AveragePooling2D, GlobalAveragePooling2D\n",
        "from keras.optimizers import Adam\n",
        "from keras.preprocessing.image import ImageDataGenerator\n",
        "from keras.callbacks import ModelCheckpoint, ReduceLROnPlateau\n",
        "from keras.applications import DenseNet121"
      ],
      "execution_count": null,
      "outputs": []
    },
    {
      "cell_type": "code",
      "metadata": {
        "colab": {
          "base_uri": "https://localhost:8080/"
        },
        "id": "e5g2CeX3UILX",
        "outputId": "6ffaab78-6d93-4652-eacf-210d95e11444"
      },
      "source": [
        "from google.colab import drive\n",
        "drive.mount('/content/drive')"
      ],
      "execution_count": null,
      "outputs": [
        {
          "output_type": "stream",
          "text": [
            "Mounted at /content/drive\n"
          ],
          "name": "stdout"
        }
      ]
    },
    {
      "cell_type": "code",
      "metadata": {
        "colab": {
          "base_uri": "https://localhost:8080/"
        },
        "id": "HdKqJj6wULTk",
        "outputId": "c144a73e-fa61-4a5a-d7a1-a09fe9ea526c"
      },
      "source": [
        "!pip install split-folders\n",
        "import splitfolders as sf\n",
        "input_folder=\"/content/drive/MyDrive/x-ray\"\n",
        "output = \"/content/Xray-final\"\n",
        "sf.ratio(input_folder , output=\"Xray\" , seed=42 , ratio=(.8,.2))"
      ],
      "execution_count": null,
      "outputs": [
        {
          "output_type": "stream",
          "text": [
            "Collecting split-folders\n",
            "  Downloading https://files.pythonhosted.org/packages/b8/5f/3c2b2f7ea5e047c8cdc3bb00ae582c5438fcdbbedcc23b3cc1c2c7aae642/split_folders-0.4.3-py3-none-any.whl\n",
            "Installing collected packages: split-folders\n",
            "Successfully installed split-folders-0.4.3\n"
          ],
          "name": "stdout"
        },
        {
          "output_type": "stream",
          "text": [
            "Copying files: 2541 files [08:50,  4.79 files/s]\n"
          ],
          "name": "stderr"
        }
      ]
    },
    {
      "cell_type": "code",
      "metadata": {
        "colab": {
          "base_uri": "https://localhost:8080/"
        },
        "id": "9Jfy7AVTULWM",
        "outputId": "ea7861bf-71df-491f-f0f5-0617f47db99e"
      },
      "source": [
        "import keras\n",
        "from keras.models import Sequential\n",
        "from keras.layers import Dense, Activation, Dropout, Flatten, Conv2D, MaxPooling2D\n",
        "from keras.layers.normalization import BatchNormalization\n",
        "import numpy as np\n",
        "from keras.models import *\n",
        "from keras.preprocessing import *  #For Data prerpocessing before making my own Model\n",
        "from keras.layers import *\n",
        "import PIL\n",
        "from keras.preprocessing.image import ImageDataGenerator\n",
        "import tensorflow as tf\n",
        "# import BatchNormalization\n",
        "from keras.layers.normalization import BatchNormalization\n",
        "from keras.optimizers import Adam\n",
        "\n",
        "train_datagen = ImageDataGenerator(\n",
        "    rescale=1./255,\n",
        "    shear_range=0.2,\n",
        "    zoom_range=0.2,\n",
        "    horizontal_flip=True\n",
        "    )\n",
        "#using Rescale only in Testing\n",
        "test_datagen=ImageDataGenerator(\n",
        "    rescale = 1./255\n",
        ")\n",
        "valid_datagen = ImageDataGenerator(\n",
        "    rescale=1./255\n",
        ")\n",
        "   \n",
        "training_set = train_datagen.flow_from_directory(\n",
        "     r'/content/Xray/train',\n",
        "     target_size=(224, 224),\n",
        "     batch_size=32,\n",
        "     class_mode='categorical')\n",
        "\n",
        "test_set = test_datagen.flow_from_directory(\n",
        "    r'/content/Xray/val',\n",
        "    target_size=(224, 224),\n",
        "    batch_size=32,\n",
        "    class_mode='categorical')"
      ],
      "execution_count": null,
      "outputs": [
        {
          "output_type": "stream",
          "text": [
            "Found 2032 images belonging to 2 classes.\n",
            "Found 509 images belonging to 2 classes.\n"
          ],
          "name": "stdout"
        }
      ]
    },
    {
      "cell_type": "code",
      "metadata": {
        "colab": {
          "base_uri": "https://localhost:8080/"
        },
        "id": "16x6nPngULY5",
        "outputId": "e08a8bf5-fed3-4122-82d2-f9cd2d36c4bb"
      },
      "source": [
        "model_d=DenseNet121(weights='imagenet',include_top=False, input_shape=(128, 128, 3)) \n",
        "\n",
        "x=model_d.output\n",
        "\n",
        "x= GlobalAveragePooling2D()(x)\n",
        "x= BatchNormalization()(x)\n",
        "x= Dropout(0.5)(x)\n",
        "x= Dense(1024,activation='relu')(x) \n",
        "x= Dense(512,activation='relu')(x) \n",
        "x= BatchNormalization()(x)\n",
        "x= Dropout(0.5)(x)\n",
        "\n",
        "preds=Dense(2,activation='softmax')(x) #FC-layer"
      ],
      "execution_count": null,
      "outputs": [
        {
          "output_type": "stream",
          "text": [
            "Downloading data from https://storage.googleapis.com/tensorflow/keras-applications/densenet/densenet121_weights_tf_dim_ordering_tf_kernels_notop.h5\n",
            "29089792/29084464 [==============================] - 0s 0us/step\n"
          ],
          "name": "stdout"
        }
      ]
    },
    {
      "cell_type": "code",
      "metadata": {
        "id": "w95bqIfpULbi"
      },
      "source": [
        "model=Model(inputs=model_d.input,outputs=preds)\n",
        "#model.summary()"
      ],
      "execution_count": null,
      "outputs": []
    },
    {
      "cell_type": "code",
      "metadata": {
        "id": "tuNRGhxZULeE"
      },
      "source": [
        "for layer in model.layers[:-8]:\n",
        "    layer.trainable=False\n",
        "    \n",
        "for layer in model.layers[-8:]:\n",
        "    layer.trainable=True"
      ],
      "execution_count": null,
      "outputs": []
    },
    {
      "cell_type": "code",
      "metadata": {
        "id": "Oyym7pGlULgh"
      },
      "source": [
        "model.compile(optimizer=' ',loss='categorical_crossentropy',metrics=['accuracy'])\n",
        "#model.summary()"
      ],
      "execution_count": null,
      "outputs": []
    },
    {
      "cell_type": "code",
      "metadata": {
        "colab": {
          "base_uri": "https://localhost:8080/"
        },
        "id": "sy3qR0M4ULip",
        "outputId": "ac398671-cb0b-4daf-a6da-65bf17539b96"
      },
      "source": [
        "results = model.fit(\n",
        "    training_set,\n",
        "    batch_size = 32,\n",
        "    epochs = 100,\n",
        "    validation_data = test_set,\n",
        ")"
      ],
      "execution_count": null,
      "outputs": [
        {
          "output_type": "stream",
          "text": [
            "Epoch 1/100\n",
            "64/64 [==============================] - 54s 652ms/step - loss: 0.2632 - accuracy: 0.9129 - val_loss: 0.4429 - val_accuracy: 0.8585\n",
            "Epoch 2/100\n",
            "64/64 [==============================] - 39s 610ms/step - loss: 0.0583 - accuracy: 0.9828 - val_loss: 0.0579 - val_accuracy: 0.9784\n",
            "Epoch 3/100\n",
            "64/64 [==============================] - 39s 608ms/step - loss: 0.0809 - accuracy: 0.9775 - val_loss: 0.0301 - val_accuracy: 0.9921\n",
            "Epoch 4/100\n",
            "64/64 [==============================] - 39s 607ms/step - loss: 0.0426 - accuracy: 0.9839 - val_loss: 0.0311 - val_accuracy: 0.9882\n",
            "Epoch 5/100\n",
            "64/64 [==============================] - 39s 605ms/step - loss: 0.0298 - accuracy: 0.9894 - val_loss: 0.0060 - val_accuracy: 0.9980\n",
            "Epoch 6/100\n",
            "64/64 [==============================] - 39s 602ms/step - loss: 0.0279 - accuracy: 0.9896 - val_loss: 0.0062 - val_accuracy: 0.9961\n",
            "Epoch 7/100\n",
            "64/64 [==============================] - 39s 608ms/step - loss: 0.0413 - accuracy: 0.9840 - val_loss: 0.0117 - val_accuracy: 0.9961\n",
            "Epoch 8/100\n",
            "64/64 [==============================] - 39s 603ms/step - loss: 0.0338 - accuracy: 0.9885 - val_loss: 0.0189 - val_accuracy: 0.9902\n",
            "Epoch 9/100\n",
            "64/64 [==============================] - 39s 603ms/step - loss: 0.0636 - accuracy: 0.9809 - val_loss: 0.0059 - val_accuracy: 0.9980\n",
            "Epoch 10/100\n",
            "64/64 [==============================] - 39s 604ms/step - loss: 0.0462 - accuracy: 0.9835 - val_loss: 0.0048 - val_accuracy: 0.9980\n",
            "Epoch 11/100\n",
            "64/64 [==============================] - 38s 600ms/step - loss: 0.0187 - accuracy: 0.9953 - val_loss: 0.0043 - val_accuracy: 0.9980\n",
            "Epoch 12/100\n",
            "64/64 [==============================] - 39s 605ms/step - loss: 0.0272 - accuracy: 0.9919 - val_loss: 0.0229 - val_accuracy: 0.9921\n",
            "Epoch 13/100\n",
            "64/64 [==============================] - 38s 601ms/step - loss: 0.0386 - accuracy: 0.9858 - val_loss: 0.0137 - val_accuracy: 0.9941\n",
            "Epoch 14/100\n",
            "64/64 [==============================] - 38s 602ms/step - loss: 0.0209 - accuracy: 0.9928 - val_loss: 0.0067 - val_accuracy: 0.9961\n",
            "Epoch 15/100\n",
            "64/64 [==============================] - 39s 604ms/step - loss: 0.0234 - accuracy: 0.9926 - val_loss: 0.0055 - val_accuracy: 0.9961\n",
            "Epoch 16/100\n",
            "64/64 [==============================] - 38s 601ms/step - loss: 0.0243 - accuracy: 0.9902 - val_loss: 0.0044 - val_accuracy: 0.9980\n",
            "Epoch 17/100\n",
            "64/64 [==============================] - 39s 602ms/step - loss: 0.0319 - accuracy: 0.9889 - val_loss: 0.0064 - val_accuracy: 0.9961\n",
            "Epoch 18/100\n",
            "64/64 [==============================] - 39s 603ms/step - loss: 0.0177 - accuracy: 0.9933 - val_loss: 0.0132 - val_accuracy: 0.9921\n",
            "Epoch 19/100\n",
            "64/64 [==============================] - 39s 602ms/step - loss: 0.0207 - accuracy: 0.9933 - val_loss: 0.0057 - val_accuracy: 0.9980\n",
            "Epoch 20/100\n",
            "64/64 [==============================] - 39s 602ms/step - loss: 0.0205 - accuracy: 0.9947 - val_loss: 0.0042 - val_accuracy: 0.9980\n",
            "Epoch 21/100\n",
            "64/64 [==============================] - 38s 600ms/step - loss: 0.0298 - accuracy: 0.9873 - val_loss: 0.0123 - val_accuracy: 0.9921\n",
            "Epoch 22/100\n",
            "64/64 [==============================] - 38s 600ms/step - loss: 0.0275 - accuracy: 0.9912 - val_loss: 0.0078 - val_accuracy: 0.9961\n",
            "Epoch 23/100\n",
            "64/64 [==============================] - 39s 603ms/step - loss: 0.0199 - accuracy: 0.9926 - val_loss: 0.0065 - val_accuracy: 0.9961\n",
            "Epoch 24/100\n",
            "64/64 [==============================] - 39s 602ms/step - loss: 0.0137 - accuracy: 0.9957 - val_loss: 0.0121 - val_accuracy: 0.9941\n",
            "Epoch 25/100\n",
            "64/64 [==============================] - 38s 597ms/step - loss: 0.0289 - accuracy: 0.9907 - val_loss: 0.0055 - val_accuracy: 0.9961\n",
            "Epoch 26/100\n",
            "64/64 [==============================] - 38s 601ms/step - loss: 0.0140 - accuracy: 0.9956 - val_loss: 0.0140 - val_accuracy: 0.9961\n",
            "Epoch 27/100\n",
            "64/64 [==============================] - 38s 598ms/step - loss: 0.0292 - accuracy: 0.9904 - val_loss: 0.0071 - val_accuracy: 0.9961\n",
            "Epoch 28/100\n",
            "64/64 [==============================] - 38s 601ms/step - loss: 0.0229 - accuracy: 0.9916 - val_loss: 0.0098 - val_accuracy: 0.9941\n",
            "Epoch 29/100\n",
            "64/64 [==============================] - 38s 599ms/step - loss: 0.0349 - accuracy: 0.9863 - val_loss: 0.0060 - val_accuracy: 0.9980\n",
            "Epoch 30/100\n",
            "64/64 [==============================] - 38s 600ms/step - loss: 0.0222 - accuracy: 0.9928 - val_loss: 0.0080 - val_accuracy: 0.9941\n",
            "Epoch 31/100\n",
            "64/64 [==============================] - 39s 606ms/step - loss: 0.0173 - accuracy: 0.9930 - val_loss: 0.0039 - val_accuracy: 0.9980\n",
            "Epoch 32/100\n",
            "64/64 [==============================] - 38s 598ms/step - loss: 0.0102 - accuracy: 0.9971 - val_loss: 0.0028 - val_accuracy: 1.0000\n",
            "Epoch 33/100\n",
            "64/64 [==============================] - 38s 599ms/step - loss: 0.0116 - accuracy: 0.9960 - val_loss: 0.0019 - val_accuracy: 1.0000\n",
            "Epoch 34/100\n",
            "64/64 [==============================] - 38s 596ms/step - loss: 0.0175 - accuracy: 0.9924 - val_loss: 0.0076 - val_accuracy: 0.9941\n",
            "Epoch 35/100\n",
            "64/64 [==============================] - 38s 600ms/step - loss: 0.0264 - accuracy: 0.9914 - val_loss: 0.0230 - val_accuracy: 0.9921\n",
            "Epoch 36/100\n",
            "64/64 [==============================] - 38s 600ms/step - loss: 0.0205 - accuracy: 0.9872 - val_loss: 0.0033 - val_accuracy: 0.9980\n",
            "Epoch 37/100\n",
            "64/64 [==============================] - 38s 600ms/step - loss: 0.0217 - accuracy: 0.9922 - val_loss: 0.0050 - val_accuracy: 0.9961\n",
            "Epoch 38/100\n",
            "64/64 [==============================] - 38s 595ms/step - loss: 0.0128 - accuracy: 0.9950 - val_loss: 0.0022 - val_accuracy: 1.0000\n",
            "Epoch 39/100\n",
            "64/64 [==============================] - 38s 600ms/step - loss: 0.0165 - accuracy: 0.9937 - val_loss: 0.0047 - val_accuracy: 0.9980\n",
            "Epoch 40/100\n",
            "64/64 [==============================] - 38s 594ms/step - loss: 0.0188 - accuracy: 0.9913 - val_loss: 0.0051 - val_accuracy: 0.9980\n",
            "Epoch 41/100\n",
            "64/64 [==============================] - 38s 600ms/step - loss: 0.0305 - accuracy: 0.9905 - val_loss: 0.0095 - val_accuracy: 0.9941\n",
            "Epoch 42/100\n",
            "64/64 [==============================] - 38s 595ms/step - loss: 0.0080 - accuracy: 0.9984 - val_loss: 0.0105 - val_accuracy: 0.9961\n",
            "Epoch 43/100\n",
            "64/64 [==============================] - 38s 598ms/step - loss: 0.0175 - accuracy: 0.9952 - val_loss: 0.0256 - val_accuracy: 0.9902\n",
            "Epoch 44/100\n",
            "64/64 [==============================] - 38s 597ms/step - loss: 0.0142 - accuracy: 0.9929 - val_loss: 0.0097 - val_accuracy: 0.9941\n",
            "Epoch 45/100\n",
            "64/64 [==============================] - 38s 599ms/step - loss: 0.0201 - accuracy: 0.9945 - val_loss: 0.0163 - val_accuracy: 0.9961\n",
            "Epoch 46/100\n",
            "64/64 [==============================] - 38s 595ms/step - loss: 0.0160 - accuracy: 0.9963 - val_loss: 0.0042 - val_accuracy: 0.9980\n",
            "Epoch 47/100\n",
            "64/64 [==============================] - 38s 600ms/step - loss: 0.0112 - accuracy: 0.9958 - val_loss: 0.0035 - val_accuracy: 0.9980\n",
            "Epoch 48/100\n",
            "64/64 [==============================] - 38s 594ms/step - loss: 0.0160 - accuracy: 0.9924 - val_loss: 0.0063 - val_accuracy: 0.9961\n",
            "Epoch 49/100\n",
            "64/64 [==============================] - 38s 595ms/step - loss: 0.0144 - accuracy: 0.9954 - val_loss: 0.0119 - val_accuracy: 0.9961\n",
            "Epoch 50/100\n",
            "64/64 [==============================] - 38s 593ms/step - loss: 0.0391 - accuracy: 0.9898 - val_loss: 0.0081 - val_accuracy: 0.9961\n",
            "Epoch 51/100\n",
            "64/64 [==============================] - 38s 594ms/step - loss: 0.0067 - accuracy: 0.9977 - val_loss: 0.0099 - val_accuracy: 0.9961\n",
            "Epoch 52/100\n",
            "64/64 [==============================] - 38s 597ms/step - loss: 0.0085 - accuracy: 0.9975 - val_loss: 0.0018 - val_accuracy: 1.0000\n",
            "Epoch 53/100\n",
            "64/64 [==============================] - 38s 595ms/step - loss: 0.0118 - accuracy: 0.9955 - val_loss: 0.0059 - val_accuracy: 0.9980\n",
            "Epoch 54/100\n",
            "64/64 [==============================] - 38s 597ms/step - loss: 0.0152 - accuracy: 0.9957 - val_loss: 0.0043 - val_accuracy: 0.9980\n",
            "Epoch 55/100\n",
            "64/64 [==============================] - 38s 600ms/step - loss: 0.0288 - accuracy: 0.9926 - val_loss: 0.0121 - val_accuracy: 0.9961\n",
            "Epoch 56/100\n",
            "64/64 [==============================] - 38s 596ms/step - loss: 0.0165 - accuracy: 0.9921 - val_loss: 0.0142 - val_accuracy: 0.9941\n",
            "Epoch 57/100\n",
            "64/64 [==============================] - 38s 593ms/step - loss: 0.0056 - accuracy: 0.9981 - val_loss: 0.0083 - val_accuracy: 0.9941\n",
            "Epoch 58/100\n",
            "64/64 [==============================] - 38s 594ms/step - loss: 0.0139 - accuracy: 0.9928 - val_loss: 0.0093 - val_accuracy: 0.9941\n",
            "Epoch 59/100\n",
            "64/64 [==============================] - 38s 592ms/step - loss: 0.0197 - accuracy: 0.9942 - val_loss: 0.0060 - val_accuracy: 0.9980\n",
            "Epoch 60/100\n",
            "64/64 [==============================] - 38s 596ms/step - loss: 0.0218 - accuracy: 0.9928 - val_loss: 0.0061 - val_accuracy: 0.9961\n",
            "Epoch 61/100\n",
            "64/64 [==============================] - 38s 591ms/step - loss: 0.0102 - accuracy: 0.9963 - val_loss: 0.0099 - val_accuracy: 0.9980\n",
            "Epoch 62/100\n",
            "64/64 [==============================] - 38s 593ms/step - loss: 0.0223 - accuracy: 0.9922 - val_loss: 0.0018 - val_accuracy: 1.0000\n",
            "Epoch 63/100\n",
            "64/64 [==============================] - 38s 594ms/step - loss: 0.0134 - accuracy: 0.9951 - val_loss: 0.0028 - val_accuracy: 0.9980\n",
            "Epoch 64/100\n",
            "64/64 [==============================] - 38s 594ms/step - loss: 0.0038 - accuracy: 0.9984 - val_loss: 0.0106 - val_accuracy: 0.9961\n",
            "Epoch 65/100\n",
            "64/64 [==============================] - 38s 592ms/step - loss: 0.0163 - accuracy: 0.9947 - val_loss: 0.0034 - val_accuracy: 0.9980\n",
            "Epoch 66/100\n",
            "64/64 [==============================] - 38s 593ms/step - loss: 0.0113 - accuracy: 0.9945 - val_loss: 0.0018 - val_accuracy: 1.0000\n",
            "Epoch 67/100\n",
            "64/64 [==============================] - 38s 592ms/step - loss: 0.0173 - accuracy: 0.9948 - val_loss: 0.0027 - val_accuracy: 1.0000\n",
            "Epoch 68/100\n",
            "64/64 [==============================] - 38s 595ms/step - loss: 0.0304 - accuracy: 0.9912 - val_loss: 0.0029 - val_accuracy: 0.9980\n",
            "Epoch 69/100\n",
            "64/64 [==============================] - 38s 593ms/step - loss: 0.0137 - accuracy: 0.9944 - val_loss: 0.0031 - val_accuracy: 0.9980\n",
            "Epoch 70/100\n",
            "64/64 [==============================] - 38s 594ms/step - loss: 0.0085 - accuracy: 0.9961 - val_loss: 0.0077 - val_accuracy: 0.9961\n",
            "Epoch 71/100\n",
            "64/64 [==============================] - 38s 594ms/step - loss: 0.0106 - accuracy: 0.9961 - val_loss: 0.0035 - val_accuracy: 0.9980\n",
            "Epoch 72/100\n",
            "64/64 [==============================] - 38s 597ms/step - loss: 0.0165 - accuracy: 0.9962 - val_loss: 0.0038 - val_accuracy: 1.0000\n",
            "Epoch 73/100\n",
            "64/64 [==============================] - 38s 596ms/step - loss: 0.0100 - accuracy: 0.9975 - val_loss: 0.0043 - val_accuracy: 0.9980\n",
            "Epoch 74/100\n",
            "64/64 [==============================] - 38s 593ms/step - loss: 0.0059 - accuracy: 0.9980 - val_loss: 0.0066 - val_accuracy: 0.9961\n",
            "Epoch 75/100\n",
            "64/64 [==============================] - 38s 599ms/step - loss: 0.0042 - accuracy: 0.9983 - val_loss: 0.0039 - val_accuracy: 0.9980\n",
            "Epoch 76/100\n",
            "64/64 [==============================] - 38s 595ms/step - loss: 0.0236 - accuracy: 0.9889 - val_loss: 0.0032 - val_accuracy: 0.9980\n",
            "Epoch 77/100\n",
            "64/64 [==============================] - 38s 595ms/step - loss: 0.0217 - accuracy: 0.9956 - val_loss: 0.0024 - val_accuracy: 1.0000\n",
            "Epoch 78/100\n",
            "64/64 [==============================] - 38s 592ms/step - loss: 0.0271 - accuracy: 0.9931 - val_loss: 0.0045 - val_accuracy: 0.9980\n",
            "Epoch 79/100\n",
            "64/64 [==============================] - 38s 597ms/step - loss: 0.0175 - accuracy: 0.9955 - val_loss: 0.0053 - val_accuracy: 0.9961\n",
            "Epoch 80/100\n",
            "64/64 [==============================] - 38s 597ms/step - loss: 0.0113 - accuracy: 0.9947 - val_loss: 0.0041 - val_accuracy: 0.9980\n",
            "Epoch 81/100\n",
            "64/64 [==============================] - 38s 597ms/step - loss: 0.0117 - accuracy: 0.9956 - val_loss: 0.0035 - val_accuracy: 0.9980\n",
            "Epoch 82/100\n",
            "64/64 [==============================] - 38s 596ms/step - loss: 0.0102 - accuracy: 0.9963 - val_loss: 0.0018 - val_accuracy: 1.0000\n",
            "Epoch 83/100\n",
            "64/64 [==============================] - 38s 596ms/step - loss: 0.0086 - accuracy: 0.9977 - val_loss: 0.0013 - val_accuracy: 1.0000\n",
            "Epoch 84/100\n",
            "64/64 [==============================] - 38s 602ms/step - loss: 0.0055 - accuracy: 0.9979 - val_loss: 0.0022 - val_accuracy: 1.0000\n",
            "Epoch 85/100\n",
            "64/64 [==============================] - 38s 598ms/step - loss: 0.0047 - accuracy: 0.9984 - val_loss: 0.0025 - val_accuracy: 1.0000\n",
            "Epoch 86/100\n",
            "64/64 [==============================] - 38s 598ms/step - loss: 0.0062 - accuracy: 0.9991 - val_loss: 0.0064 - val_accuracy: 0.9980\n",
            "Epoch 87/100\n",
            "64/64 [==============================] - 38s 597ms/step - loss: 0.0066 - accuracy: 0.9976 - val_loss: 0.0039 - val_accuracy: 0.9980\n",
            "Epoch 88/100\n",
            "64/64 [==============================] - 38s 600ms/step - loss: 0.0055 - accuracy: 0.9982 - val_loss: 0.0107 - val_accuracy: 0.9980\n",
            "Epoch 89/100\n",
            "64/64 [==============================] - 38s 596ms/step - loss: 0.0056 - accuracy: 0.9977 - val_loss: 0.0154 - val_accuracy: 0.9980\n",
            "Epoch 90/100\n",
            "64/64 [==============================] - 38s 597ms/step - loss: 0.0365 - accuracy: 0.9935 - val_loss: 0.0043 - val_accuracy: 1.0000\n",
            "Epoch 91/100\n",
            "64/64 [==============================] - 38s 593ms/step - loss: 0.0085 - accuracy: 0.9952 - val_loss: 0.0071 - val_accuracy: 0.9941\n",
            "Epoch 92/100\n",
            "64/64 [==============================] - 38s 596ms/step - loss: 0.0107 - accuracy: 0.9986 - val_loss: 0.0037 - val_accuracy: 0.9980\n",
            "Epoch 93/100\n",
            "64/64 [==============================] - 38s 593ms/step - loss: 0.0125 - accuracy: 0.9949 - val_loss: 0.0047 - val_accuracy: 0.9980\n",
            "Epoch 94/100\n",
            "64/64 [==============================] - 38s 596ms/step - loss: 0.0037 - accuracy: 0.9990 - val_loss: 0.0034 - val_accuracy: 0.9980\n",
            "Epoch 95/100\n",
            "64/64 [==============================] - 38s 595ms/step - loss: 0.0122 - accuracy: 0.9955 - val_loss: 0.0093 - val_accuracy: 0.9980\n",
            "Epoch 96/100\n",
            "64/64 [==============================] - 38s 598ms/step - loss: 0.0054 - accuracy: 0.9987 - val_loss: 0.0035 - val_accuracy: 0.9980\n",
            "Epoch 97/100\n",
            "64/64 [==============================] - 38s 593ms/step - loss: 0.0102 - accuracy: 0.9955 - val_loss: 0.0126 - val_accuracy: 0.9961\n",
            "Epoch 98/100\n",
            "64/64 [==============================] - 38s 596ms/step - loss: 0.0022 - accuracy: 0.9995 - val_loss: 0.0113 - val_accuracy: 0.9961\n",
            "Epoch 99/100\n",
            "64/64 [==============================] - 38s 593ms/step - loss: 0.0061 - accuracy: 0.9984 - val_loss: 0.0188 - val_accuracy: 0.9941\n",
            "Epoch 100/100\n",
            "64/64 [==============================] - 38s 596ms/step - loss: 0.0047 - accuracy: 0.9984 - val_loss: 0.0090 - val_accuracy: 0.9980\n"
          ],
          "name": "stdout"
        }
      ]
    },
    {
      "cell_type": "code",
      "metadata": {
        "colab": {
          "base_uri": "https://localhost:8080/",
          "height": 311
        },
        "id": "3OnN5s775c23",
        "outputId": "50e2d80c-08aa-49d5-9c30-ab7a43ed36f6"
      },
      "source": [
        "results.history.keys()\n",
        "import matplotlib.pyplot as plt\n",
        "%matplotlib inline\n",
        "plt.plot(results.history['loss'])\n",
        "plt.plot(results.history['val_loss'])\n",
        "plt.legend(['Training', 'Validation'])\n",
        "plt.title('Training and Validation Losses')\n",
        "plt.xlabel('epoch')\n",
        "plt.ylabel('Losses')"
      ],
      "execution_count": null,
      "outputs": [
        {
          "output_type": "execute_result",
          "data": {
            "text/plain": [
              "Text(0, 0.5, 'Losses')"
            ]
          },
          "metadata": {
            "tags": []
          },
          "execution_count": 11
        },
        {
          "output_type": "display_data",
          "data": {
            "image/png": "[encoded data removed]",
            "text/plain": [
              "<Figure size 432x288 with 1 Axes>"
            ]
          },
          "metadata": {
            "tags": [],
            "needs_background": "light"
          }
        }
      ]
    },
    {
      "cell_type": "code",
      "metadata": {
        "colab": {
          "base_uri": "https://localhost:8080/",
          "height": 311
        },
        "id": "0yeAeAU35exm",
        "outputId": "62250083-d0f6-4b66-c06e-6d81ed9678a2"
      },
      "source": [
        "acc=results.history['accuracy']\n",
        "val_acc=results.history['val_accuracy']\n",
        "acc=[100* i for i in acc]\n",
        "val_acc=[ 100*i for i in val_acc]\n",
        "plt.plot(acc)\n",
        "plt.plot(val_acc)\n",
        "plt.legend(['Training', 'Validation'])\n",
        "plt.title('Training and Validation Accuracy')\n",
        "plt.xlabel('epoch')\n",
        "plt.ylabel('Accuracy %')"
      ],
      "execution_count": null,
      "outputs": [
        {
          "output_type": "execute_result",
          "data": {
            "text/plain": [
              "Text(0, 0.5, 'Accuracy %')"
            ]
          },
          "metadata": {
            "tags": []
          },
          "execution_count": 12
        },
        {
          "output_type": "display_data",
          "data": {
            "image/png": "[encoded data removed]",
            "text/plain": [
              "<Figure size 432x288 with 1 Axes>"
            ]
          },
          "metadata": {
            "tags": [],
            "needs_background": "light"
          }
        }
      ]
    },
    {
      "cell_type": "code",
      "metadata": {
        "id": "nkzXelpVULlB"
      },
      "source": [
        "model.save('/content/covid-19-densenet_121_V1_xray_2Classes.h5')"
      ],
      "execution_count": null,
      "outputs": []
    },
    {
      "cell_type": "code",
      "metadata": {
        "id": "woF-o0b_ULnr"
      },
      "source": [
        "new_model = tf.keras.models.load_model('/content/drive/MyDrive/covid-19-densenet_121_V1_xray_2Classes')"
      ],
      "execution_count": null,
      "outputs": []
    },
    {
      "cell_type": "code",
      "metadata": {
        "id": "SU5KEZnZ41mC"
      },
      "source": [
        "new_model.summary()"
      ],
      "execution_count": null,
      "outputs": []
    },
    {
      "cell_type": "code",
      "metadata": {
        "id": "v0GZVQlw41ox"
      },
      "source": [
        ""
      ],
      "execution_count": null,
      "outputs": []
    }
  ]
}